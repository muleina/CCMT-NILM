{
 "cells": [
  {
   "cell_type": "markdown",
   "metadata": {},
   "source": [
    "# Cost Analysis"
   ]
  },
  {
   "cell_type": "code",
   "execution_count": 1,
   "metadata": {},
   "outputs": [],
   "source": [
    "%load_ext autoreload\n",
    "%autoreload 2\n",
    "from IPython.core.interactiveshell import InteractiveShell\n",
    "InteractiveShell.ast_node_interactivity = 'all'\n",
    "\n",
    "import sys, os\n",
    "import numpy as np,pandas as pd\n",
    "import datetime, time\n",
    "\n",
    "base_path = os.path.dirname(os.getcwd())\n",
    "sys.path.append(base_path)\n",
    "src_path = base_path + \"/src\"\n",
    "from src import utilities as util, CostAnalyzer\n",
    "\n",
    "code_path, data_path, main_result_path = util.GetWorkingDirs(base_path) \n",
    "sys.path.append(base_path)\n",
    "sys.path.append(code_path)"
   ]
  },
  {
   "cell_type": "markdown",
   "metadata": {},
   "source": [
    "### Select Target System: In case multiple systems in the result directory"
   ]
  },
  {
   "cell_type": "code",
   "execution_count": 2,
   "metadata": {},
   "outputs": [
    {
     "name": "stdout",
     "output_type": "stream",
     "text": [
      "The following systems are found in the result folder. Select server name :\n",
      "1:System_CVS\n",
      "2:System_LS\n",
      "Target directory is: D:\\GithubRepos\\CCMT-NILM\\code\\results\\System_CVS\n"
     ]
    }
   ],
   "source": [
    "# selecting target cost dataset working directory\n",
    "system_name, data_path = util.GetTargetDir(main_result_path, \"server name\")\n",
    "print(\"Target directory is: \" + data_path)"
   ]
  },
  {
   "cell_type": "markdown",
   "metadata": {},
   "source": [
    "### Cost Dataset Loading"
   ]
  },
  {
   "cell_type": "code",
   "execution_count": 3,
   "metadata": {},
   "outputs": [],
   "source": [
    "# initialize cost analysis module\n",
    "ObjAnalyzer = CostAnalyzer.CostAnalyzer(data_path=data_path, system_name=system_name)"
   ]
  },
  {
   "cell_type": "code",
   "execution_count": 4,
   "metadata": {},
   "outputs": [],
   "source": [
    "# load the cost dataset\n",
    "ObjAnalyzer.LoadWorkingDataset()"
   ]
  },
  {
   "cell_type": "code",
   "execution_count": 5,
   "metadata": {},
   "outputs": [
    {
     "data": {
      "text/html": [
       "<div>\n",
       "<style scoped>\n",
       "    .dataframe tbody tr th:only-of-type {\n",
       "        vertical-align: middle;\n",
       "    }\n",
       "\n",
       "    .dataframe tbody tr th {\n",
       "        vertical-align: top;\n",
       "    }\n",
       "\n",
       "    .dataframe thead th {\n",
       "        text-align: right;\n",
       "    }\n",
       "</style>\n",
       "<table border=\"1\" class=\"dataframe\">\n",
       "  <thead>\n",
       "    <tr style=\"text-align: right;\">\n",
       "      <th></th>\n",
       "      <th>dw_minutes</th>\n",
       "      <th>Number of Houses</th>\n",
       "      <th>Number of Processes</th>\n",
       "      <th>ProcTime_FromSystem</th>\n",
       "      <th>time_disagg_online_sec</th>\n",
       "      <th>ProcTime_FromMeter</th>\n",
       "      <th>ProcEnergy_FromMeter</th>\n",
       "      <th>meter_energy_bg_dw_wh</th>\n",
       "      <th>house_energy_min_kwh</th>\n",
       "      <th>house_energy_mean_kwh</th>\n",
       "      <th>house_energy_median_kwh</th>\n",
       "      <th>house_energy_max_kwh</th>\n",
       "      <th>house_energy_total_kwh</th>\n",
       "    </tr>\n",
       "  </thead>\n",
       "  <tbody>\n",
       "    <tr>\n",
       "      <th>0</th>\n",
       "      <td>60.0</td>\n",
       "      <td>1500</td>\n",
       "      <td>6</td>\n",
       "      <td>139.218</td>\n",
       "      <td>139.110</td>\n",
       "      <td>139.0</td>\n",
       "      <td>3.8417</td>\n",
       "      <td>126.8806</td>\n",
       "      <td>0.0</td>\n",
       "      <td>0.3899</td>\n",
       "      <td>0.2551</td>\n",
       "      <td>4.030</td>\n",
       "      <td>584.8643</td>\n",
       "    </tr>\n",
       "    <tr>\n",
       "      <th>1</th>\n",
       "      <td>60.0</td>\n",
       "      <td>2000</td>\n",
       "      <td>1</td>\n",
       "      <td>1118.250</td>\n",
       "      <td>1118.140</td>\n",
       "      <td>1117.0</td>\n",
       "      <td>13.6967</td>\n",
       "      <td>127.6856</td>\n",
       "      <td>0.0</td>\n",
       "      <td>0.3918</td>\n",
       "      <td>0.2583</td>\n",
       "      <td>4.030</td>\n",
       "      <td>783.6808</td>\n",
       "    </tr>\n",
       "    <tr>\n",
       "      <th>2</th>\n",
       "      <td>60.0</td>\n",
       "      <td>2500</td>\n",
       "      <td>1</td>\n",
       "      <td>1329.547</td>\n",
       "      <td>1329.406</td>\n",
       "      <td>1316.0</td>\n",
       "      <td>17.2382</td>\n",
       "      <td>127.7029</td>\n",
       "      <td>0.0</td>\n",
       "      <td>0.3843</td>\n",
       "      <td>0.2496</td>\n",
       "      <td>4.030</td>\n",
       "      <td>960.7006</td>\n",
       "    </tr>\n",
       "    <tr>\n",
       "      <th>3</th>\n",
       "      <td>60.0</td>\n",
       "      <td>6000</td>\n",
       "      <td>6</td>\n",
       "      <td>545.077</td>\n",
       "      <td>544.953</td>\n",
       "      <td>545.0</td>\n",
       "      <td>15.8751</td>\n",
       "      <td>126.9666</td>\n",
       "      <td>0.0</td>\n",
       "      <td>0.3908</td>\n",
       "      <td>0.2574</td>\n",
       "      <td>4.030</td>\n",
       "      <td>2344.7387</td>\n",
       "    </tr>\n",
       "    <tr>\n",
       "      <th>4</th>\n",
       "      <td>60.0</td>\n",
       "      <td>1000</td>\n",
       "      <td>6</td>\n",
       "      <td>94.625</td>\n",
       "      <td>94.454</td>\n",
       "      <td>95.0</td>\n",
       "      <td>2.6031</td>\n",
       "      <td>126.4547</td>\n",
       "      <td>0.0</td>\n",
       "      <td>0.3894</td>\n",
       "      <td>0.2617</td>\n",
       "      <td>3.303</td>\n",
       "      <td>389.3556</td>\n",
       "    </tr>\n",
       "  </tbody>\n",
       "</table>\n",
       "</div>"
      ],
      "text/plain": [
       "   dw_minutes  Number of Houses  Number of Processes  ProcTime_FromSystem  time_disagg_online_sec  ProcTime_FromMeter  ProcEnergy_FromMeter  meter_energy_bg_dw_wh  house_energy_min_kwh  house_energy_mean_kwh  house_energy_median_kwh  house_energy_max_kwh  house_energy_total_kwh\n",
       "0        60.0              1500                    6              139.218                 139.110               139.0                3.8417               126.8806                   0.0                 0.3899                   0.2551                 4.030                584.8643\n",
       "1        60.0              2000                    1             1118.250                1118.140              1117.0               13.6967               127.6856                   0.0                 0.3918                   0.2583                 4.030                783.6808\n",
       "2        60.0              2500                    1             1329.547                1329.406              1316.0               17.2382               127.7029                   0.0                 0.3843                   0.2496                 4.030                960.7006\n",
       "3        60.0              6000                    6              545.077                 544.953               545.0               15.8751               126.9666                   0.0                 0.3908                   0.2574                 4.030               2344.7387\n",
       "4        60.0              1000                    6               94.625                  94.454                95.0                2.6031               126.4547                   0.0                 0.3894                   0.2617                 3.303                389.3556"
      ]
     },
     "execution_count": 5,
     "metadata": {},
     "output_type": "execute_result"
    },
    {
     "data": {
      "text/plain": [
       "(224, 13)"
      ]
     },
     "execution_count": 5,
     "metadata": {},
     "output_type": "execute_result"
    }
   ],
   "source": [
    "# display the cost dataset\n",
    "ObjAnalyzer.dataset.head()\n",
    "ObjAnalyzer.dataset.shape"
   ]
  },
  {
   "cell_type": "markdown",
   "metadata": {},
   "source": [
    "### Data Analysis"
   ]
  },
  {
   "cell_type": "code",
   "execution_count": 6,
   "metadata": {},
   "outputs": [
    {
     "name": "stdout",
     "output_type": "stream",
     "text": [
      "monitored cost dataset analysis...\n"
     ]
    }
   ],
   "source": [
    "# plots associated costs, correlations and comparisons\n",
    "ObjAnalyzer.FeatureAnalysis(issave=True, isfigshow=False)"
   ]
  },
  {
   "cell_type": "markdown",
   "metadata": {},
   "source": [
    "## Cost Analysis"
   ]
  },
  {
   "cell_type": "code",
   "execution_count": 7,
   "metadata": {},
   "outputs": [
    {
     "name": "stdout",
     "output_type": "stream",
     "text": [
      "cost prediction analysis report...\n",
      "Load model...  D:\\GithubRepos\\CCMT-NILM\\code\\results\\System_CVS\\modeling\\models\\costmodel_ProcTime_FromMeter.pickle\n",
      "Load model...  D:\\GithubRepos\\CCMT-NILM\\code\\results\\System_CVS\\modeling\\models\\costmodel_ProcEnergy_FromMeter.pickle\n",
      "\n",
      "****************************************\n",
      "Np: Number of Parallel Processes in Multiprocessing\n",
      "PT: Processing Time Cost of the NILM Algorthm\n",
      "PE: Processing Energy Cost of the NILM Algorthm\n",
      "puh: Per Unit House\n",
      "DW: Disaggregation Time-Window Size of the NILM Algorithm: In this case 60.0 minutes\n",
      "AHL: Average House Load in DW\n",
      "Nh_max: Maximum Load Scale or Number of Houses that can be processed with in DW\n",
      "THL: Total House Load in DW from Nh_max Houses\n",
      "SE: Static or background energy consumption of the system or server within DW\n",
      "\n",
      "****************************************\n",
      "Saving:  D:\\GithubRepos\\CCMT-NILM\\code\\results\\System_CVS\\analysis\\metadata.json\n"
     ]
    },
    {
     "data": {
      "text/html": [
       "<div>\n",
       "<style scoped>\n",
       "    .dataframe tbody tr th:only-of-type {\n",
       "        vertical-align: middle;\n",
       "    }\n",
       "\n",
       "    .dataframe tbody tr th {\n",
       "        vertical-align: top;\n",
       "    }\n",
       "\n",
       "    .dataframe thead th {\n",
       "        text-align: right;\n",
       "    }\n",
       "</style>\n",
       "<table border=\"1\" class=\"dataframe\">\n",
       "  <thead>\n",
       "    <tr style=\"text-align: right;\">\n",
       "      <th></th>\n",
       "      <th>Np</th>\n",
       "      <th>AHL (kwh)</th>\n",
       "      <th>PT_puh (sec)</th>\n",
       "      <th>PE_puh (wh)</th>\n",
       "      <th>DW (minutes)</th>\n",
       "      <th>SE (wh)</th>\n",
       "      <th>PE_puh/AHL (%)</th>\n",
       "      <th>Nh_max</th>\n",
       "      <th>THL (kwh)</th>\n",
       "      <th>PE (wh)</th>\n",
       "      <th>PE_total (wh)</th>\n",
       "      <th>PE_total/THL (%)</th>\n",
       "    </tr>\n",
       "  </thead>\n",
       "  <tbody>\n",
       "    <tr>\n",
       "      <th>0</th>\n",
       "      <td>1</td>\n",
       "      <td>0.253679</td>\n",
       "      <td>0.550604</td>\n",
       "      <td>0.006980</td>\n",
       "      <td>60.0</td>\n",
       "      <td>127.076884</td>\n",
       "      <td>0.002752</td>\n",
       "      <td>6480</td>\n",
       "      <td>1643.837143</td>\n",
       "      <td>45.232328</td>\n",
       "      <td>172.309212</td>\n",
       "      <td>0.010482</td>\n",
       "    </tr>\n",
       "    <tr>\n",
       "      <th>1</th>\n",
       "      <td>2</td>\n",
       "      <td>0.253679</td>\n",
       "      <td>0.223779</td>\n",
       "      <td>0.005268</td>\n",
       "      <td>60.0</td>\n",
       "      <td>127.076884</td>\n",
       "      <td>0.002077</td>\n",
       "      <td>16080</td>\n",
       "      <td>4079.151429</td>\n",
       "      <td>84.713433</td>\n",
       "      <td>211.790317</td>\n",
       "      <td>0.005192</td>\n",
       "    </tr>\n",
       "    <tr>\n",
       "      <th>2</th>\n",
       "      <td>3</td>\n",
       "      <td>0.253679</td>\n",
       "      <td>0.150842</td>\n",
       "      <td>0.004112</td>\n",
       "      <td>60.0</td>\n",
       "      <td>127.076884</td>\n",
       "      <td>0.001621</td>\n",
       "      <td>23820</td>\n",
       "      <td>6042.623571</td>\n",
       "      <td>97.947522</td>\n",
       "      <td>225.024406</td>\n",
       "      <td>0.003724</td>\n",
       "    </tr>\n",
       "    <tr>\n",
       "      <th>3</th>\n",
       "      <td>4</td>\n",
       "      <td>0.253679</td>\n",
       "      <td>0.117546</td>\n",
       "      <td>0.003346</td>\n",
       "      <td>60.0</td>\n",
       "      <td>127.076884</td>\n",
       "      <td>0.001319</td>\n",
       "      <td>30600</td>\n",
       "      <td>7762.564286</td>\n",
       "      <td>102.375092</td>\n",
       "      <td>229.451976</td>\n",
       "      <td>0.002956</td>\n",
       "    </tr>\n",
       "    <tr>\n",
       "      <th>4</th>\n",
       "      <td>5</td>\n",
       "      <td>0.253679</td>\n",
       "      <td>0.101508</td>\n",
       "      <td>0.002890</td>\n",
       "      <td>60.0</td>\n",
       "      <td>127.076884</td>\n",
       "      <td>0.001139</td>\n",
       "      <td>35460</td>\n",
       "      <td>8995.442143</td>\n",
       "      <td>102.479119</td>\n",
       "      <td>229.556003</td>\n",
       "      <td>0.002552</td>\n",
       "    </tr>\n",
       "    <tr>\n",
       "      <th>5</th>\n",
       "      <td>6</td>\n",
       "      <td>0.253679</td>\n",
       "      <td>0.090621</td>\n",
       "      <td>0.002578</td>\n",
       "      <td>60.0</td>\n",
       "      <td>127.076884</td>\n",
       "      <td>0.001016</td>\n",
       "      <td>39720</td>\n",
       "      <td>10076.112857</td>\n",
       "      <td>102.396853</td>\n",
       "      <td>229.473736</td>\n",
       "      <td>0.002277</td>\n",
       "    </tr>\n",
       "    <tr>\n",
       "      <th>6</th>\n",
       "      <td>7</td>\n",
       "      <td>0.253679</td>\n",
       "      <td>0.082358</td>\n",
       "      <td>0.002409</td>\n",
       "      <td>60.0</td>\n",
       "      <td>127.076884</td>\n",
       "      <td>0.000950</td>\n",
       "      <td>43680</td>\n",
       "      <td>11080.680000</td>\n",
       "      <td>105.246742</td>\n",
       "      <td>232.323626</td>\n",
       "      <td>0.002097</td>\n",
       "    </tr>\n",
       "    <tr>\n",
       "      <th>7</th>\n",
       "      <td>8</td>\n",
       "      <td>0.253679</td>\n",
       "      <td>0.078567</td>\n",
       "      <td>0.002295</td>\n",
       "      <td>60.0</td>\n",
       "      <td>127.076884</td>\n",
       "      <td>0.000905</td>\n",
       "      <td>45780</td>\n",
       "      <td>11613.405000</td>\n",
       "      <td>105.074237</td>\n",
       "      <td>232.151121</td>\n",
       "      <td>0.001999</td>\n",
       "    </tr>\n",
       "  </tbody>\n",
       "</table>\n",
       "</div>"
      ],
      "text/plain": [
       "   Np  AHL (kwh)  PT_puh (sec)  PE_puh (wh)  DW (minutes)     SE (wh)  PE_puh/AHL (%)  Nh_max     THL (kwh)     PE (wh)  PE_total (wh)  PE_total/THL (%)\n",
       "0   1   0.253679      0.550604     0.006980          60.0  127.076884        0.002752    6480   1643.837143   45.232328     172.309212          0.010482\n",
       "1   2   0.253679      0.223779     0.005268          60.0  127.076884        0.002077   16080   4079.151429   84.713433     211.790317          0.005192\n",
       "2   3   0.253679      0.150842     0.004112          60.0  127.076884        0.001621   23820   6042.623571   97.947522     225.024406          0.003724\n",
       "3   4   0.253679      0.117546     0.003346          60.0  127.076884        0.001319   30600   7762.564286  102.375092     229.451976          0.002956\n",
       "4   5   0.253679      0.101508     0.002890          60.0  127.076884        0.001139   35460   8995.442143  102.479119     229.556003          0.002552\n",
       "5   6   0.253679      0.090621     0.002578          60.0  127.076884        0.001016   39720  10076.112857  102.396853     229.473736          0.002277\n",
       "6   7   0.253679      0.082358     0.002409          60.0  127.076884        0.000950   43680  11080.680000  105.246742     232.323626          0.002097\n",
       "7   8   0.253679      0.078567     0.002295          60.0  127.076884        0.000905   45780  11613.405000  105.074237     232.151121          0.001999"
      ]
     },
     "execution_count": 7,
     "metadata": {},
     "output_type": "execute_result"
    }
   ],
   "source": [
    "# generate summary table of cost analysis of the NILM algorithm\n",
    "ObjAnalyzer.CapacityAnalysis()"
   ]
  },
  {
   "cell_type": "code",
   "execution_count": null,
   "metadata": {},
   "outputs": [],
   "source": []
  }
 ],
 "metadata": {
  "file_extension": ".py",
  "kernelspec": {
   "display_name": "Python 3.7.7 64-bit ('NED_AI_py37': conda)",
   "language": "python",
   "name": "python37764bitnedaipy37conda885049ca3d8b41b28b82b1b61907622f"
  },
  "language_info": {
   "codemirror_mode": {
    "name": "ipython",
    "version": 3
   },
   "file_extension": ".py",
   "mimetype": "text/x-python",
   "name": "python",
   "nbconvert_exporter": "python",
   "pygments_lexer": "ipython3",
   "version": "3.6.10"
  },
  "mimetype": "text/x-python",
  "name": "python",
  "npconvert_exporter": "python",
  "pygments_lexer": "ipython3",
  "version": 3
 },
 "nbformat": 4,
 "nbformat_minor": 2
}

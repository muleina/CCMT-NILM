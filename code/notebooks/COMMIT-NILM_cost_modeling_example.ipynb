{
 "cells": [
  {
   "cell_type": "markdown",
   "metadata": {},
   "source": [
    "# Cost Modeling"
   ]
  },
  {
   "cell_type": "code",
   "execution_count": 2,
   "metadata": {},
   "outputs": [
    {
     "name": "stdout",
     "output_type": "stream",
     "text": [
      "The autoreload extension is already loaded. To reload it, use:\n",
      "  %reload_ext autoreload\n"
     ]
    }
   ],
   "source": [
    "%load_ext autoreload\n",
    "%autoreload 2\n",
    "from IPython.core.interactiveshell import InteractiveShell\n",
    "InteractiveShell.ast_node_interactivity = 'all'\n",
    "\n",
    "import sys, os\n",
    "import numpy as np,pandas as pd\n",
    "import datetime, time\n",
    "\n",
    "base_path = os.path.dirname(os.getcwd())\n",
    "sys.path.append(base_path)\n",
    "src_path = base_path + \"/src\"\n",
    "from src import utilities as util, CostAnalyzer\n",
    "\n",
    "code_path, data_path, main_result_path = util.GetWorkingDirs(base_path) \n",
    "sys.path.append(base_path)\n",
    "sys.path.append(code_path)"
   ]
  },
  {
   "cell_type": "markdown",
   "metadata": {},
   "source": [
    "### Select Target System: In case multiple systems in the result directory"
   ]
  },
  {
   "cell_type": "code",
   "execution_count": 3,
   "metadata": {},
   "outputs": [
    {
     "name": "stdout",
     "output_type": "stream",
     "text": [
      "The following systems are found in the result folder. Select server name :\n",
      "1:System_CVS\n",
      "2:System_LS\n",
      "Target directory is: D:\\GithubRepos\\CCMT-NILM\\code\\results\\System_CVS\n"
     ]
    }
   ],
   "source": [
    "# selecting target cost dataset working directory\n",
    "system_name, data_path = util.GetTargetDir(main_result_path, \"server name\")\n",
    "print(\"Target directory is: \" + data_path)"
   ]
  },
  {
   "cell_type": "markdown",
   "metadata": {},
   "source": [
    "## Cost Modeling: Data Prepration"
   ]
  },
  {
   "cell_type": "code",
   "execution_count": 4,
   "metadata": {},
   "outputs": [
    {
     "name": "stderr",
     "output_type": "stream",
     "text": [
      "100%|██████████| 3/3 [00:00<00:00, 149.93it/s]costdataset size: (224, 31)\n",
      "\n"
     ]
    }
   ],
   "source": [
    "# initialize CostModeler object\n",
    "ObjModel = CostModeler.CostModeler(data_path=data_path, system_name=system_name)\n",
    "\n",
    "# load cost datasets\n",
    "df_cost, df_cost_agg = ObjModel.LoadWorkingDataset()\n",
    "\n",
    "# preparing cost dataset for modeling\n",
    "dataset, features, targets = ObjModel.FeatureDataPrepartation()"
   ]
  },
  {
   "cell_type": "code",
   "execution_count": 5,
   "metadata": {},
   "outputs": [
    {
     "data": {
      "text/html": [
       "<div>\n",
       "<style scoped>\n",
       "    .dataframe tbody tr th:only-of-type {\n",
       "        vertical-align: middle;\n",
       "    }\n",
       "\n",
       "    .dataframe tbody tr th {\n",
       "        vertical-align: top;\n",
       "    }\n",
       "\n",
       "    .dataframe thead th {\n",
       "        text-align: right;\n",
       "    }\n",
       "</style>\n",
       "<table border=\"1\" class=\"dataframe\">\n",
       "  <thead>\n",
       "    <tr style=\"text-align: right;\">\n",
       "      <th></th>\n",
       "      <th>Number of Houses</th>\n",
       "      <th>Number of Processes</th>\n",
       "      <th>dw_minutes</th>\n",
       "      <th>ProcTime_FromSystem</th>\n",
       "      <th>time_disagg_online_sec</th>\n",
       "      <th>ProcTime_FromMeter</th>\n",
       "      <th>ProcEnergy_FromMeter</th>\n",
       "      <th>meter_energy_bg_dw_wh</th>\n",
       "      <th>house_energy_min_kwh</th>\n",
       "      <th>house_energy_mean_kwh</th>\n",
       "      <th>house_energy_median_kwh</th>\n",
       "      <th>house_energy_max_kwh</th>\n",
       "      <th>house_energy_total_kwh</th>\n",
       "    </tr>\n",
       "  </thead>\n",
       "  <tbody>\n",
       "    <tr>\n",
       "      <th>0</th>\n",
       "      <td>1000</td>\n",
       "      <td>1</td>\n",
       "      <td>60.0</td>\n",
       "      <td>561.4710</td>\n",
       "      <td>561.3935</td>\n",
       "      <td>556.5</td>\n",
       "      <td>7.02995</td>\n",
       "      <td>127.57030</td>\n",
       "      <td>0.0</td>\n",
       "      <td>0.38675</td>\n",
       "      <td>0.25635</td>\n",
       "      <td>4.03</td>\n",
       "      <td>386.74275</td>\n",
       "    </tr>\n",
       "    <tr>\n",
       "      <th>1</th>\n",
       "      <td>1000</td>\n",
       "      <td>2</td>\n",
       "      <td>60.0</td>\n",
       "      <td>228.4225</td>\n",
       "      <td>228.3210</td>\n",
       "      <td>227.0</td>\n",
       "      <td>5.26995</td>\n",
       "      <td>127.23700</td>\n",
       "      <td>0.0</td>\n",
       "      <td>0.38675</td>\n",
       "      <td>0.25635</td>\n",
       "      <td>4.03</td>\n",
       "      <td>386.74275</td>\n",
       "    </tr>\n",
       "    <tr>\n",
       "      <th>2</th>\n",
       "      <td>1000</td>\n",
       "      <td>3</td>\n",
       "      <td>60.0</td>\n",
       "      <td>154.0160</td>\n",
       "      <td>153.8760</td>\n",
       "      <td>154.0</td>\n",
       "      <td>4.17395</td>\n",
       "      <td>126.97000</td>\n",
       "      <td>0.0</td>\n",
       "      <td>0.38675</td>\n",
       "      <td>0.25635</td>\n",
       "      <td>4.03</td>\n",
       "      <td>386.74275</td>\n",
       "    </tr>\n",
       "    <tr>\n",
       "      <th>3</th>\n",
       "      <td>1000</td>\n",
       "      <td>4</td>\n",
       "      <td>60.0</td>\n",
       "      <td>120.8830</td>\n",
       "      <td>120.7345</td>\n",
       "      <td>121.0</td>\n",
       "      <td>3.39140</td>\n",
       "      <td>126.74380</td>\n",
       "      <td>0.0</td>\n",
       "      <td>0.38675</td>\n",
       "      <td>0.25635</td>\n",
       "      <td>4.03</td>\n",
       "      <td>386.74275</td>\n",
       "    </tr>\n",
       "    <tr>\n",
       "      <th>4</th>\n",
       "      <td>1000</td>\n",
       "      <td>5</td>\n",
       "      <td>60.0</td>\n",
       "      <td>103.1630</td>\n",
       "      <td>103.0170</td>\n",
       "      <td>104.0</td>\n",
       "      <td>2.94935</td>\n",
       "      <td>126.57105</td>\n",
       "      <td>0.0</td>\n",
       "      <td>0.38675</td>\n",
       "      <td>0.25635</td>\n",
       "      <td>4.03</td>\n",
       "      <td>386.74275</td>\n",
       "    </tr>\n",
       "  </tbody>\n",
       "</table>\n",
       "</div>"
      ],
      "text/plain": [
       "   Number of Houses  Number of Processes  dw_minutes  ProcTime_FromSystem  time_disagg_online_sec  ProcTime_FromMeter  ProcEnergy_FromMeter  meter_energy_bg_dw_wh  house_energy_min_kwh  house_energy_mean_kwh  house_energy_median_kwh  house_energy_max_kwh  house_energy_total_kwh\n",
       "0              1000                    1        60.0             561.4710                561.3935               556.5               7.02995              127.57030                   0.0                0.38675                  0.25635                  4.03               386.74275\n",
       "1              1000                    2        60.0             228.4225                228.3210               227.0               5.26995              127.23700                   0.0                0.38675                  0.25635                  4.03               386.74275\n",
       "2              1000                    3        60.0             154.0160                153.8760               154.0               4.17395              126.97000                   0.0                0.38675                  0.25635                  4.03               386.74275\n",
       "3              1000                    4        60.0             120.8830                120.7345               121.0               3.39140              126.74380                   0.0                0.38675                  0.25635                  4.03               386.74275\n",
       "4              1000                    5        60.0             103.1630                103.0170               104.0               2.94935              126.57105                   0.0                0.38675                  0.25635                  4.03               386.74275"
      ]
     },
     "execution_count": 5,
     "metadata": {},
     "output_type": "execute_result"
    },
    {
     "data": {
      "text/plain": [
       "(64, 13)"
      ]
     },
     "execution_count": 5,
     "metadata": {},
     "output_type": "execute_result"
    }
   ],
   "source": [
    "#  display the prepared modeling dataset\n",
    "ObjModel.dataset.head()\n",
    "ObjModel.dataset.shape"
   ]
  },
  {
   "cell_type": "markdown",
   "metadata": {},
   "source": [
    "## Cost Modeling: Development"
   ]
  },
  {
   "cell_type": "markdown",
   "metadata": {},
   "source": [
    "### Cost: NILM Processing Time"
   ]
  },
  {
   "cell_type": "code",
   "execution_count": 6,
   "metadata": {},
   "outputs": [],
   "source": [
    "# building cost model for processing time\n",
    "target = 'ProcTime_FromMeter'\n",
    "features = ObjModel.features"
   ]
  },
  {
   "cell_type": "markdown",
   "metadata": {},
   "source": [
    "#### Hyperparameter Tuning"
   ]
  },
  {
   "cell_type": "code",
   "execution_count": 7,
   "metadata": {
    "tags": [
     "outputPrepend"
    ]
   },
   "outputs": [
    {
     "name": "stdout",
     "output_type": "stream",
     "text": [
      "K-fold cross-validation model hyper-parameter tuning using njobs =  4 ... \n",
      "features:  ['Number of Processes', 'num_houses_inv']\n",
      "target:  ProcTime_FromMeter\n",
      "unique groups based on Number of Houses: [1000 1500 2000 2500]\n",
      "seed:  223\n",
      "      mean_test_MAPE  mean_test_MdAPE  mean_test_APE_MAX  rank_test_MAPE  rank_test_MdAPE  rank_test_APE_MAX                                                    params\n",
      "681        -1.342727        -0.712430          -4.447555               6                3                128  {'max_depth': 6, 'n_estimators': 4, 'random_state': 780}\n",
      "697        -1.461541        -1.085525          -3.806322              48              235                  1  {'max_depth': 6, 'n_estimators': 4, 'random_state': 479}\n",
      "830        -1.528269        -1.242682          -3.834189              82              456                  3  {'max_depth': 6, 'n_estimators': 8, 'random_state': 754}\n",
      "881        -1.341194        -0.706506          -4.397701               4                2                111  {'max_depth': 6, 'n_estimators': 8, 'random_state': 780}\n",
      "947        -1.334517        -0.940143          -4.024159               1               76                 20  {'max_depth': 8, 'n_estimators': 4, 'random_state': 762}\n",
      "981        -1.338481        -0.712430          -4.447555               2                3                128  {'max_depth': 8, 'n_estimators': 4, 'random_state': 780}\n",
      "997        -1.462958        -1.093357          -3.806322              50              244                  1  {'max_depth': 8, 'n_estimators': 4, 'random_state': 479}\n",
      "1130       -1.530512        -1.245260          -3.834189              85              459                  3  {'max_depth': 8, 'n_estimators': 8, 'random_state': 754}\n",
      "1181       -1.339071        -0.698013          -4.397701               3                1                111  {'max_depth': 8, 'n_estimators': 8, 'random_state': 780}\n",
      "Finished ParameterTuneGridCV in 17.374722957611084 secs\n"
     ]
    },
    {
     "data": {
      "text/plain": [
       "{}"
      ]
     },
     "execution_count": 7,
     "metadata": {},
     "output_type": "execute_result"
    }
   ],
   "source": [
    "#  update the rf model parameters in the setting.JSON once the best paramters is identified\n",
    "ObjMLModel = model.PredictiveModel(models_path=ObjModel.models_path, dataset=ObjModel.dataset, features=ObjModel.features, target=target)\n",
    "param_grid = {\n",
    "                            'n_estimators': np.arange(4, 10, 2),\n",
    "                            'max_depth': np.arange(2, 10, 2),\n",
    "                            # 'min_samples_leaf': np.arange(1, 5, 1),\n",
    "                            # 'min_samples_split': np.arange(1, 5, 1),          \n",
    "                            # 'max_leaf_nodes': list(np.arange(4, 20, 2)) + [None],\n",
    "                            # 'bootstrap': [True, False],\n",
    "                }\n",
    "\n",
    "ObjMLModel.ParameterTuneGridCV(param_grid=param_grid, n_jobs=4)"
   ]
  },
  {
   "cell_type": "markdown",
   "metadata": {},
   "source": [
    "#### Model building"
   ]
  },
  {
   "cell_type": "code",
   "execution_count": 10,
   "metadata": {},
   "outputs": [
    {
     "name": "stdout",
     "output_type": "stream",
     "text": [
      "filename:  d:\\GithubRepos\\CCMT-NILM\\code\\src\\setting.json\n",
      "Model building for ProcTime_FromMeter...\n",
      "\n",
      "Mean Estimator (ME) Model Fitting ...\n",
      "\n",
      "features:  ['Number of Processes']\n",
      "target:  ProcTime_FromMeter\n",
      "\n",
      "****************************************\n",
      "TEST_MSE_PUH: 4.9560698784722015e-06\n",
      "TEST_MSE: 328.8784375000009\n",
      "ALL_MAPE: 1.316\n",
      "TRAIN_MAPE: 1.384\n",
      "TEST_MAPE: 1.247\n",
      "ALL_RVALUE: 1.0\n",
      "TRAIN_RVALUE: 1.0\n",
      "TEST_RVALUE: 1.0\n",
      "ALL_APE_CI: [0.375, 0.984375, 1.0, 1.0]\n",
      "APE_EXTREMES_ALL: {'MIN_APE': 0.03036, 'MAX_APE': 3.07932}\n",
      "TRAIN_APE_CI: [0.3125, 0.96875, 1.0, 1.0]\n",
      "APE_EXTREMES_TRAIN: {'MIN_APE': 0.03036, 'MAX_APE': 3.07932}\n",
      "TEST_APE_CI: [0.4375, 1.0, 1.0, 1.0]\n",
      "APE_EXTREMES_TEST: {'MIN_APE': 0.03901, 'MAX_APE': 2.97073}\n",
      "APE_CI_THRESHOLDS: [1, 3, 5, 10]\n",
      "\n",
      "****************************************\n",
      "\n",
      "RandomForest Model Training ...\n",
      "\n",
      "features:  ['Number of Processes', 'num_houses_inv']\n",
      "target:  ProcTime_FromMeter\n",
      "train seed:  223\n",
      "\n",
      "****************************************\n",
      "TEST_MSE_PUH: 5.6414248167438196e-06\n",
      "TEST_MSE: 303.25501302083285\n",
      "ALL_MAPE: 0.87\n",
      "TRAIN_MAPE: 0.641\n",
      "TEST_MAPE: 1.098\n",
      "ALL_RVALUE: 1.0\n",
      "TRAIN_RVALUE: 1.0\n",
      "TEST_RVALUE: 1.0\n",
      "ALL_APE_CI: [0.609375, 1.0, 1.0, 1.0]\n",
      "APE_EXTREMES_ALL: {'MIN_APE': 0.0, 'MAX_APE': 2.60273}\n",
      "TRAIN_APE_CI: [0.71875, 1.0, 1.0, 1.0]\n",
      "APE_EXTREMES_TRAIN: {'MIN_APE': 0.0, 'MAX_APE': 2.60273}\n",
      "TEST_APE_CI: [0.5, 1.0, 1.0, 1.0]\n",
      "APE_EXTREMES_TEST: {'MIN_APE': 0.14918, 'MAX_APE': 2.58483}\n",
      "APE_CI_THRESHOLDS: [1, 3, 5, 10]\n",
      "\n",
      "****************************************\n"
     ]
    }
   ],
   "source": [
    "print(\"Model building for {}...\".format(target))\n",
    "ObjCostModels_PT = ObjModel.ModelBuilding(features, target, isfigshow=False)"
   ]
  },
  {
   "cell_type": "markdown",
   "metadata": {},
   "source": [
    "### Save Model"
   ]
  },
  {
   "cell_type": "code",
   "execution_count": 11,
   "metadata": {},
   "outputs": [
    {
     "data": {
      "text/plain": [
       "{'ME': {'ALL_APE_CI': [0.375, 0.984375, 1.0, 1.0],\n",
       "  'ALL_MAPE': 1.316,\n",
       "  'ALL_RVALUE': 1.0,\n",
       "  'APE_CI_THRESHOLDS': [1, 3, 5, 10],\n",
       "  'APE_EXTREMES_ALL': {'MAX_APE': 3.07932, 'MIN_APE': 0.03036},\n",
       "  'APE_EXTREMES_TEST': {'MAX_APE': 2.97073, 'MIN_APE': 0.03901},\n",
       "  'APE_EXTREMES_TRAIN': {'MAX_APE': 3.07932, 'MIN_APE': 0.03036},\n",
       "  'TEST_APE_CI': [0.4375, 1.0, 1.0, 1.0],\n",
       "  'TEST_MAPE': 1.247,\n",
       "  'TEST_MSE': 328.8784375000009,\n",
       "  'TEST_MSE_PUH': 4.9560698784722015e-06,\n",
       "  'TEST_RVALUE': 1.0,\n",
       "  'TRAIN_APE_CI': [0.3125, 0.96875, 1.0, 1.0],\n",
       "  'TRAIN_MAPE': 1.384,\n",
       "  'TRAIN_RVALUE': 1.0},\n",
       " 'evals': {'ME': {'ALL_APE_CI': [0.375, 0.984375, 1.0, 1.0],\n",
       "   'ALL_MAPE': 1.316,\n",
       "   'ALL_RVALUE': 1.0,\n",
       "   'APE_CI_THRESHOLDS': [1, 3, 5, 10],\n",
       "   'APE_EXTREMES_ALL': {'MAX_APE': 3.07932, 'MIN_APE': 0.03036},\n",
       "   'APE_EXTREMES_TEST': {'MAX_APE': 2.97073, 'MIN_APE': 0.03901},\n",
       "   'APE_EXTREMES_TRAIN': {'MAX_APE': 3.07932, 'MIN_APE': 0.03036},\n",
       "   'TEST_APE_CI': [0.4375, 1.0, 1.0, 1.0],\n",
       "   'TEST_MAPE': 1.247,\n",
       "   'TEST_MSE': 328.8784375000009,\n",
       "   'TEST_MSE_PUH': 4.9560698784722015e-06,\n",
       "   'TEST_RVALUE': 1.0,\n",
       "   'TRAIN_APE_CI': [0.3125, 0.96875, 1.0, 1.0],\n",
       "   'TRAIN_MAPE': 1.384,\n",
       "   'TRAIN_RVALUE': 1.0},\n",
       "  'RF': {'ALL_APE_CI': [0.609375, 1.0, 1.0, 1.0],\n",
       "   'ALL_MAPE': 0.87,\n",
       "   'ALL_RVALUE': 1.0,\n",
       "   'APE_CI_THRESHOLDS': [1, 3, 5, 10],\n",
       "   'APE_EXTREMES_ALL': {'MAX_APE': 2.60273, 'MIN_APE': 0.0},\n",
       "   'APE_EXTREMES_TEST': {'MAX_APE': 2.58483, 'MIN_APE': 0.14918},\n",
       "   'APE_EXTREMES_TRAIN': {'MAX_APE': 2.60273, 'MIN_APE': 0.0},\n",
       "   'TEST_APE_CI': [0.5, 1.0, 1.0, 1.0],\n",
       "   'TEST_MAPE': 1.098,\n",
       "   'TEST_MSE': 303.25501302083285,\n",
       "   'TEST_MSE_PUH': 5.6414248167438196e-06,\n",
       "   'TEST_RVALUE': 1.0,\n",
       "   'TRAIN_APE_CI': [0.71875, 1.0, 1.0, 1.0],\n",
       "   'TRAIN_MAPE': 0.641,\n",
       "   'TRAIN_RVALUE': 1.0}},\n",
       " 'models': {'ME':                     ProcTime_FromMeter\n",
       "                                    mean\n",
       "  Number of Processes                   \n",
       "  1                             0.550604\n",
       "  2                             0.223779\n",
       "  3                             0.150842\n",
       "  4                             0.117546\n",
       "  5                             0.101508\n",
       "  6                             0.090621\n",
       "  7                             0.082358\n",
       "  8                             0.078567,\n",
       "  'RF': RandomForestRegressor(bootstrap=True, ccp_alpha=0.0, criterion='mse',\n",
       "                        max_depth=8, max_features='auto', max_leaf_nodes=None,\n",
       "                        max_samples=None, min_impurity_decrease=0.0,\n",
       "                        min_impurity_split=None, min_samples_leaf=1,\n",
       "                        min_samples_split=2, min_weight_fraction_leaf=0.0,\n",
       "                        n_estimators=6, n_jobs=None, oob_score=False,\n",
       "                        random_state=780, verbose=0, warm_start=False)}}"
      ]
     },
     "execution_count": 11,
     "metadata": {},
     "output_type": "execute_result"
    },
    {
     "name": "stdout",
     "output_type": "stream",
     "text": [
      "Saving model...  D:\\GithubRepos\\CCMT-NILM\\code\\results\\System_CVS\\modeling\\models\\costmodel_ProcTime_FromMeter.pickle\n",
      "Saving:  D:\\GithubRepos\\CCMT-NILM\\code\\results\\System_CVS\\modeling\\models\\costmodel_ProcTime_FromMeter_eval.JSON\n"
     ]
    }
   ],
   "source": [
    "ObjModel.ObjMLModel.costmodels\n",
    "ObjModel.SaveTrainedModel(ObjCostModels_PT)"
   ]
  },
  {
   "cell_type": "markdown",
   "metadata": {},
   "source": [
    "### Cost: NILM Processing Energy"
   ]
  },
  {
   "cell_type": "code",
   "execution_count": 12,
   "metadata": {},
   "outputs": [],
   "source": [
    "# building cost model for processing time\n",
    "target = 'ProcEnergy_FromMeter'\n",
    "features = ObjModel.features"
   ]
  },
  {
   "cell_type": "markdown",
   "metadata": {},
   "source": [
    "### Hyperparameter Tuning"
   ]
  },
  {
   "cell_type": "code",
   "execution_count": 15,
   "metadata": {},
   "outputs": [],
   "source": [
    "#  update the rf model parameters in the setting.JSON once the best paramters is identified\n",
    "\n",
    "# ObjMLModel = model.PredictiveModel(models_path=ObjModel.models_path, dataset=ObjModel.dataset, features=ObjModel.features, target=target)\n",
    "# param_grid = {\n",
    "#                 'n_estimators': np.arange(4, 10, 2),\n",
    "#                 'max_depth': np.arange(2, 10, 2),\n",
    "#                 # 'min_samples_leaf': np.arange(1, 5, 1),\n",
    "#                 # 'min_samples_split': np.arange(1, 5, 1),          \n",
    "#                 # 'max_leaf_nodes': list(np.arange(10, 20, 2)) + [None],\n",
    "#                 # 'bootstrap': [True, False],\n",
    "#                 # \"max_features\":[0.5, 1]\n",
    "#              }\n",
    "\n",
    "# ObjMLModel.ParameterTuneGridCV(param_grid=param_grid, n_jobs=4)"
   ]
  },
  {
   "cell_type": "markdown",
   "metadata": {},
   "source": [
    "#### Model building"
   ]
  },
  {
   "cell_type": "code",
   "execution_count": 16,
   "metadata": {},
   "outputs": [
    {
     "name": "stdout",
     "output_type": "stream",
     "text": [
      "Model building for ProcEnergy_FromMeter...\n",
      "\n",
      "Mean Estimator (ME) Model Fitting ...\n",
      "\n",
      "features:  ['Number of Processes']\n",
      "target:  ProcEnergy_FromMeter\n",
      "\n",
      "****************************************\n",
      "TEST_MSE_PUH: 1.1620597662955745e-08\n",
      "TEST_MSE: 0.7045234572677097\n",
      "ALL_MAPE: 1.945\n",
      "TRAIN_MAPE: 1.122\n",
      "TEST_MAPE: 2.767\n",
      "ALL_RVALUE: 1.0\n",
      "TRAIN_RVALUE: 1.0\n",
      "TEST_RVALUE: 1.0\n",
      "ALL_APE_CI: [0.359375, 0.8125, 0.90625, 1.0]\n",
      "APE_EXTREMES_ALL: {'MIN_APE': 0.03229, 'MAX_APE': 6.34812}\n",
      "TRAIN_APE_CI: [0.53125, 0.96875, 0.96875, 1.0]\n",
      "APE_EXTREMES_TRAIN: {'MIN_APE': 0.03229, 'MAX_APE': 5.59161}\n",
      "TEST_APE_CI: [0.1875, 0.65625, 0.84375, 1.0]\n",
      "APE_EXTREMES_TEST: {'MIN_APE': 0.53545, 'MAX_APE': 6.34812}\n",
      "APE_CI_THRESHOLDS: [1, 3, 5, 10]\n",
      "\n",
      "****************************************\n",
      "\n",
      "RandomForest Model Training ...\n",
      "\n",
      "features:  ['Number of Processes', 'num_houses_inv']\n",
      "target:  ProcEnergy_FromMeter\n",
      "train seed:  223\n",
      "\n",
      "****************************************\n",
      "TEST_MSE_PUH: 1.074291132276473e-08\n",
      "TEST_MSE: 0.64183173487604\n",
      "ALL_MAPE: 1.647\n",
      "TRAIN_MAPE: 0.801\n",
      "TEST_MAPE: 2.492\n",
      "ALL_RVALUE: 1.0\n",
      "TRAIN_RVALUE: 1.0\n",
      "TEST_RVALUE: 1.0\n",
      "ALL_APE_CI: [0.484375, 0.84375, 0.953125, 1.0]\n",
      "APE_EXTREMES_ALL: {'MIN_APE': 0.0, 'MAX_APE': 8.08537}\n",
      "TRAIN_APE_CI: [0.75, 0.96875, 0.96875, 1.0]\n",
      "APE_EXTREMES_TRAIN: {'MIN_APE': 0.0, 'MAX_APE': 8.08537}\n",
      "TEST_APE_CI: [0.21875, 0.71875, 0.9375, 1.0]\n",
      "APE_EXTREMES_TEST: {'MIN_APE': 0.05722, 'MAX_APE': 5.34918}\n",
      "APE_CI_THRESHOLDS: [1, 3, 5, 10]\n",
      "\n",
      "****************************************\n"
     ]
    }
   ],
   "source": [
    "print(\"Model building for {}...\".format(target))\n",
    "ObjCostModels_PE = ObjModel.ModelBuilding(features, target, isfigshow=True)"
   ]
  },
  {
   "cell_type": "markdown",
   "metadata": {},
   "source": [
    "### Save Model"
   ]
  },
  {
   "cell_type": "code",
   "execution_count": 17,
   "metadata": {},
   "outputs": [
    {
     "data": {
      "text/plain": [
       "{'ME': {'ALL_APE_CI': [0.359375, 0.8125, 0.90625, 1.0],\n",
       "  'ALL_MAPE': 1.945,\n",
       "  'ALL_RVALUE': 1.0,\n",
       "  'APE_CI_THRESHOLDS': [1, 3, 5, 10],\n",
       "  'APE_EXTREMES_ALL': {'MAX_APE': 6.34812, 'MIN_APE': 0.03229},\n",
       "  'APE_EXTREMES_TEST': {'MAX_APE': 6.34812, 'MIN_APE': 0.53545},\n",
       "  'APE_EXTREMES_TRAIN': {'MAX_APE': 5.59161, 'MIN_APE': 0.03229},\n",
       "  'TEST_APE_CI': [0.1875, 0.65625, 0.84375, 1.0],\n",
       "  'TEST_MAPE': 2.767,\n",
       "  'TEST_MSE': 0.7045234572677097,\n",
       "  'TEST_MSE_PUH': 1.1620597662955745e-08,\n",
       "  'TEST_RVALUE': 1.0,\n",
       "  'TRAIN_APE_CI': [0.53125, 0.96875, 0.96875, 1.0],\n",
       "  'TRAIN_MAPE': 1.122,\n",
       "  'TRAIN_RVALUE': 1.0},\n",
       " 'evals': {'ME': {'ALL_APE_CI': [0.359375, 0.8125, 0.90625, 1.0],\n",
       "   'ALL_MAPE': 1.945,\n",
       "   'ALL_RVALUE': 1.0,\n",
       "   'APE_CI_THRESHOLDS': [1, 3, 5, 10],\n",
       "   'APE_EXTREMES_ALL': {'MAX_APE': 6.34812, 'MIN_APE': 0.03229},\n",
       "   'APE_EXTREMES_TEST': {'MAX_APE': 6.34812, 'MIN_APE': 0.53545},\n",
       "   'APE_EXTREMES_TRAIN': {'MAX_APE': 5.59161, 'MIN_APE': 0.03229},\n",
       "   'TEST_APE_CI': [0.1875, 0.65625, 0.84375, 1.0],\n",
       "   'TEST_MAPE': 2.767,\n",
       "   'TEST_MSE': 0.7045234572677097,\n",
       "   'TEST_MSE_PUH': 1.1620597662955745e-08,\n",
       "   'TEST_RVALUE': 1.0,\n",
       "   'TRAIN_APE_CI': [0.53125, 0.96875, 0.96875, 1.0],\n",
       "   'TRAIN_MAPE': 1.122,\n",
       "   'TRAIN_RVALUE': 1.0},\n",
       "  'RF': {'ALL_APE_CI': [0.484375, 0.84375, 0.953125, 1.0],\n",
       "   'ALL_MAPE': 1.647,\n",
       "   'ALL_RVALUE': 1.0,\n",
       "   'APE_CI_THRESHOLDS': [1, 3, 5, 10],\n",
       "   'APE_EXTREMES_ALL': {'MAX_APE': 8.08537, 'MIN_APE': 0.0},\n",
       "   'APE_EXTREMES_TEST': {'MAX_APE': 5.34918, 'MIN_APE': 0.05722},\n",
       "   'APE_EXTREMES_TRAIN': {'MAX_APE': 8.08537, 'MIN_APE': 0.0},\n",
       "   'TEST_APE_CI': [0.21875, 0.71875, 0.9375, 1.0],\n",
       "   'TEST_MAPE': 2.492,\n",
       "   'TEST_MSE': 0.64183173487604,\n",
       "   'TEST_MSE_PUH': 1.074291132276473e-08,\n",
       "   'TEST_RVALUE': 1.0,\n",
       "   'TRAIN_APE_CI': [0.75, 0.96875, 0.96875, 1.0],\n",
       "   'TRAIN_MAPE': 0.801,\n",
       "   'TRAIN_RVALUE': 1.0}},\n",
       " 'models': {'ME':                     ProcEnergy_FromMeter\n",
       "                                      mean\n",
       "  Number of Processes                     \n",
       "  1                               0.006980\n",
       "  2                               0.005268\n",
       "  3                               0.004112\n",
       "  4                               0.003346\n",
       "  5                               0.002890\n",
       "  6                               0.002578\n",
       "  7                               0.002409\n",
       "  8                               0.002295,\n",
       "  'RF': RandomForestRegressor(bootstrap=True, ccp_alpha=0.0, criterion='mse',\n",
       "                        max_depth=6, max_features='auto', max_leaf_nodes=None,\n",
       "                        max_samples=None, min_impurity_decrease=0.0,\n",
       "                        min_impurity_split=None, min_samples_leaf=1,\n",
       "                        min_samples_split=2, min_weight_fraction_leaf=0.0,\n",
       "                        n_estimators=4, n_jobs=None, oob_score=False,\n",
       "                        random_state=8285, verbose=0, warm_start=False)}}"
      ]
     },
     "execution_count": 17,
     "metadata": {},
     "output_type": "execute_result"
    },
    {
     "name": "stdout",
     "output_type": "stream",
     "text": [
      "Saving model...  D:\\GithubRepos\\CCMT-NILM\\code\\results\\System_CVS\\modeling\\models\\costmodel_ProcEnergy_FromMeter.pickle\n",
      "Saving:  D:\\GithubRepos\\CCMT-NILM\\code\\results\\System_CVS\\modeling\\models\\costmodel_ProcEnergy_FromMeter_eval.JSON\n"
     ]
    }
   ],
   "source": [
    "ObjModel.ObjMLModel.costmodels\n",
    "ObjModel.SaveTrainedModel(ObjCostModels_PE)"
   ]
  },
  {
   "cell_type": "code",
   "execution_count": null,
   "metadata": {},
   "outputs": [],
   "source": []
  }
 ],
 "metadata": {
  "file_extension": ".py",
  "kernelspec": {
   "display_name": "Python 3",
   "language": "python",
   "name": "python3"
  },
  "language_info": {
   "codemirror_mode": {
    "name": "ipython",
    "version": 3
   },
   "file_extension": ".py",
   "mimetype": "text/x-python",
   "name": "python",
   "nbconvert_exporter": "python",
   "pygments_lexer": "ipython3",
   "version": "3.6.10"
  },
  "mimetype": "text/x-python",
  "name": "python",
  "npconvert_exporter": "python",
  "pygments_lexer": "ipython3",
  "version": 3
 },
 "nbformat": 4,
 "nbformat_minor": 2
}
